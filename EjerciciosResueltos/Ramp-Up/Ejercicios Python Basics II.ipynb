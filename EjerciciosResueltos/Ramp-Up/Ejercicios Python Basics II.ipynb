{
 "cells": [
  {
   "attachments": {},
   "cell_type": "markdown",
   "metadata": {},
   "source": [
    "![imagen](./img/ejercicios.png)"
   ]
  },
  {
   "attachments": {},
   "cell_type": "markdown",
   "metadata": {},
   "source": [
    "# Ejercicios Python Basics II"
   ]
  },
  {
   "attachments": {},
   "cell_type": "markdown",
   "metadata": {},
   "source": [
    "## Ejercicio 1\n",
    "* Crea dos variables numericas: un `int` y un `float`\n",
    "* Comprueba sus tipos\n",
    "* Sumalas en otra nueva\n",
    "* ¿De qué tipo es la nueva variable?\n",
    "* Elimina las dos primeras variables creadas"
   ]
  },
  {
   "cell_type": "code",
   "execution_count": 5,
   "metadata": {},
   "outputs": [
    {
     "name": "stdout",
     "output_type": "stream",
     "text": [
      "<class 'int'>\n",
      "<class 'float'>\n",
      "3.0\n"
     ]
    }
   ],
   "source": [
    "x=1\n",
    "y=2.0\n",
    "print(type(x))\n",
    "print(type(y))\n",
    "z=x+y\n",
    "print(z)\n",
    "\n",
    "del x\n",
    "del y\n"
   ]
  },
  {
   "attachments": {},
   "cell_type": "markdown",
   "metadata": {},
   "source": [
    "## Ejercicio 2\n",
    "Escribe un programa para pasar de grados a radianes. Hay que usar `input`. Recuerda que la conversión se realiza mediante\n",
    "\n",
    "radianes = grados*(pi/180)"
   ]
  },
  {
   "cell_type": "code",
   "execution_count": 7,
   "metadata": {},
   "outputs": [
    {
     "name": "stdout",
     "output_type": "stream",
     "text": [
      "Los radianes son 0.17453292519943295\n"
     ]
    }
   ],
   "source": [
    "import math\n",
    "\n",
    "grados= (input('Introduce los grados'))\n",
    "grados_int=int(grados)\n",
    "\n",
    "radianes=grados_int*(math.pi/180)\n",
    "\n",
    "print(\"Los radianes son\", radianes)\n",
    "\n"
   ]
  },
  {
   "attachments": {},
   "cell_type": "markdown",
   "metadata": {},
   "source": [
    "## Ejercicio 3\n",
    "Escribe un programa que calcule el area de un paralelogramo (base x altura). También con `input`"
   ]
  },
  {
   "cell_type": "code",
   "execution_count": 11,
   "metadata": {},
   "outputs": [
    {
     "name": "stdout",
     "output_type": "stream",
     "text": [
      "40\n"
     ]
    }
   ],
   "source": [
    "altura=(input('Introduce la altura'))\n",
    "altura_int=int(altura)\n",
    "base=(input('Introduce la base'))\n",
    "base_int=int(base)\n",
    "\n",
    "area=base_int*altura_int\n",
    "print(area)"
   ]
  },
  {
   "attachments": {},
   "cell_type": "markdown",
   "metadata": {},
   "source": [
    "## Ejercicio 4\n",
    "Tenemos las siguientes variables:\n",
    "\n",
    "```Python\n",
    "A = 4\n",
    "B = \"Text\"\n",
    "C = 4.1\n",
    "```\n",
    "\n",
    "Comprueba:\n",
    "1. Si A y B son equivalentes\n",
    "2. Si A y C NO son equivalentes\n",
    "3. Si A es mayor que C \n",
    "4. Si C es menor o igual que A\n",
    "5. Si B NO es equivalente a C"
   ]
  },
  {
   "cell_type": "code",
   "execution_count": 17,
   "metadata": {},
   "outputs": [
    {
     "name": "stdout",
     "output_type": "stream",
     "text": [
      "A es distinto que B\n",
      "A es distinto que C\n",
      "A es menor que C\n",
      "C es mayor o igual que A\n",
      "B es distinto que C\n"
     ]
    }
   ],
   "source": [
    "A = 4\n",
    "B=\"Text\"\n",
    "C = 4.1\n",
    "\n",
    "\n",
    "if A == B:\n",
    "    print ('A es igual que B')\n",
    "else :\n",
    "    print ('A es distinto que B')\n",
    "if A != C:\n",
    "    print('A es distinto que C')\n",
    "else:\n",
    "    print('A es igual que C')\n",
    "if A > C:\n",
    "    print('A es mayor que C')\n",
    "else:\n",
    "    print('A es menor que C')\n",
    "if C <= A:\n",
    "    print('C es menor o igual que A')\n",
    "else:\n",
    "    print('C es mayor o igual que A')\n",
    "if B != C:\n",
    "    print ('B es distinto que C')\n",
    "else:\n",
    "    print ('B es igual que C')"
   ]
  },
  {
   "attachments": {},
   "cell_type": "markdown",
   "metadata": {},
   "source": [
    "## Ejercicio 5\n",
    "Crea un programa donde se recojan dos inputs del usuario, y el output del programa sea si esos inputs son iguales o no"
   ]
  },
  {
   "cell_type": "code",
   "execution_count": 18,
   "metadata": {},
   "outputs": [
    {
     "name": "stdout",
     "output_type": "stream",
     "text": [
      "Las letras son iguales\n"
     ]
    }
   ],
   "source": [
    "x=(input('Introduce una letra'))\n",
    "y=(input('Introduce otra letra'))\n",
    "\n",
    "if x==y:\n",
    "    print('Las letras son iguales')\n",
    "else:\n",
    "    print('Las letras son diferentes')"
   ]
  },
  {
   "attachments": {},
   "cell_type": "markdown",
   "metadata": {},
   "source": [
    "## Ejercicio 6\n",
    "Mismo programa que en 5, pero en esta ocasión tienen que ser tres inputs y dos salidas. Una de las salidas que nos indique si todos son iguales, y la otra si al menos dos inputs sí que lo son"
   ]
  },
  {
   "cell_type": "code",
   "execution_count": 20,
   "metadata": {},
   "outputs": [
    {
     "name": "stdout",
     "output_type": "stream",
     "text": [
      "Las letras son diferentes\n",
      "La primera y segunda letra son iguales\n"
     ]
    }
   ],
   "source": [
    "x=(input('Introduce una letra'))\n",
    "y=(input('Introduce otra letra'))\n",
    "z=(input('Introduce otra letra'))\n",
    "\n",
    "if x==y==z:\n",
    "    print('Las letras son iguales')\n",
    "else:\n",
    "    print('Las letras son diferentes')\n",
    "\n",
    "if x==y:\n",
    "    print('La primera y segunda letra son iguales')\n",
    "elif x==z:\n",
    "    print('La primera y la tercera letra son igules')\n",
    "elif y==z:\n",
    "    print ('La segunda y tercera letra son igules')\n"
   ]
  },
  {
   "attachments": {},
   "cell_type": "markdown",
   "metadata": {},
   "source": [
    "## Ejercicio 7\n",
    "Crea un programa que recoja dos inputs. Tiene que comprobar si su suma es igual, superior o inferior a 10"
   ]
  },
  {
   "cell_type": "code",
   "execution_count": 22,
   "metadata": {},
   "outputs": [
    {
     "name": "stdout",
     "output_type": "stream",
     "text": [
      "True\n"
     ]
    }
   ],
   "source": [
    "x=(input('Introduce un numero'))\n",
    "y=(input('Introduce otra numero'))\n",
    "\n",
    "x_int=int(x)\n",
    "y_int=int(y)\n",
    "\n",
    "\n",
    "if x_int+y_int >=10:\n",
    "    print('False')\n",
    "else:\n",
    "    print('True')\n"
   ]
  },
  {
   "attachments": {},
   "cell_type": "markdown",
   "metadata": {},
   "source": [
    "## Ejercicio 8\n",
    "Razona sin ejecutar código el output que obtendremos de las siguientes sentencias\n",
    "1. True and True and False\n",
    "2. not ((True or False) and (True or False))\n",
    "3. (False or False or False or True) and False\n",
    "4. not False and True and not True"
   ]
  },
  {
   "attachments": {},
   "cell_type": "markdown",
   "metadata": {},
   "source": [
    "1. False\n",
    "2. True\n",
    "3. False\n",
    "4. False"
   ]
  },
  {
   "attachments": {},
   "cell_type": "markdown",
   "metadata": {},
   "source": [
    "## Ejercicio 9\n",
    "Para este ejercicio vamos a poner en práctica [las funciones built in](https://docs.python.org/3/library/functions.html).\n",
    "\n",
    "1. Calcula el máximo de la lista: [4, 6, 8, -1]\n",
    "2. Suma todos los elementos de la lista anterior\n",
    "3. Redondea este float a 3 dígitos decimales: 63.451256965\n",
    "4. Valor absoluto de: -74"
   ]
  },
  {
   "cell_type": "code",
   "execution_count": 25,
   "metadata": {},
   "outputs": [
    {
     "name": "stdout",
     "output_type": "stream",
     "text": [
      "17\n",
      "63.451\n",
      "74\n"
     ]
    }
   ],
   "source": [
    "lista=[4, 6, 8, -1]\n",
    "print(sum(lista))\n",
    "print(round(63.451256965,3))\n",
    "print(abs(-74))"
   ]
  },
  {
   "attachments": {},
   "cell_type": "markdown",
   "metadata": {},
   "source": [
    "## Ejercicio 10\n",
    "Para el siguiente string se pide imprimir por pantalla los siguientes casos\n",
    "\n",
    "    \"En un lugar de la Mancha, de cuyo nombre no quiero acordarme.\"\n",
    "\n",
    "1. Pásalo todo a mayúsculas\n",
    "2. Pásalo todo a minúsculas\n",
    "3. Solo la primera letra de cada palabra en mayúscula, el resto en minúscula\n",
    "4. Crea una lista dividiéndolo por sus espacios\n",
    "5. Sustituye las comas `,` por puntos y comas `;`\n",
    "6. Elimina las `a` minúsculas"
   ]
  },
  {
   "cell_type": "code",
   "execution_count": 37,
   "metadata": {},
   "outputs": [
    {
     "name": "stdout",
     "output_type": "stream",
     "text": [
      "EN UN LUGAR DE LA MANCHA, DE CUYO NOMBRE NO QUIERO ACORDARME.\n",
      "en un lugar de la mancha, de cuyo nombre no quiero acordarme.\n",
      "En un lugar de la mancha, de cuyo nombre no quiero acordarme.\n",
      "En un lugar de la Mancha; de cuyo nombre no quiero acordarme.\n",
      "En un lugr de l Mnch, de cuyo nombre no quiero cordrme.\n"
     ]
    }
   ],
   "source": [
    "txt=\"En un lugar de la Mancha, de cuyo nombre no quiero acordarme.\"\n",
    "txt_mayus=txt.upper()\n",
    "print(txt_mayus)\n",
    "txt_minus=txt.lower()\n",
    "print(txt_minus)\n",
    "txt_primMayus=(txt.capitalize())\n",
    "print(txt_primMayus)\n",
    "print(txt.replace(',',';'))\n",
    "print(txt.replace('a',''))\n"
   ]
  },
  {
   "attachments": {},
   "cell_type": "markdown",
   "metadata": {},
   "source": [
    "## Ejercicio 11\n",
    "1. Crea una lista con 3 elementos numéricos\n",
    "2. Añade un cuarto elemento\n",
    "3. Calcula la suma de todos\n",
    "4. Elimina el segundo elemento de la lista\n",
    "5. Añade otro elemento en la posicion 3 de la lista\n",
    "6. Crea otra lista con 4 elementos y concaténala a la que ya tenías."
   ]
  },
  {
   "cell_type": "code",
   "execution_count": 42,
   "metadata": {},
   "outputs": [
    {
     "name": "stdout",
     "output_type": "stream",
     "text": [
      "[1, 2, 3, 4]\n",
      "10\n",
      "[[2, 3, 4, 1], [6, 7, 8, 9]]\n"
     ]
    }
   ],
   "source": [
    "lista=[1,2,3]\n",
    "lista.append(4)\n",
    "print(lista)\n",
    "print(sum(lista))\n",
    "lista.remove(1)\n",
    "lista.insert(5,1)\n",
    "\n",
    "lista2=[6,7,8,9]\n",
    "\n",
    "lista_completa=[lista,lista2]\n",
    "print (lista_completa)"
   ]
  }
 ],
 "metadata": {
  "kernelspec": {
   "display_name": "Python 3 (ipykernel)",
   "language": "python",
   "name": "python3"
  },
  "language_info": {
   "codemirror_mode": {
    "name": "ipython",
    "version": 3
   },
   "file_extension": ".py",
   "mimetype": "text/x-python",
   "name": "python",
   "nbconvert_exporter": "python",
   "pygments_lexer": "ipython3",
   "version": "3.11.4"
  }
 },
 "nbformat": 4,
 "nbformat_minor": 4
}
