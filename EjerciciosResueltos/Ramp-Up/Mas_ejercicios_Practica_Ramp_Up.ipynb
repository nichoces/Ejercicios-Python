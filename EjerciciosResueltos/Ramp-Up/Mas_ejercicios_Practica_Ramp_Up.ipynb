{
 "cells": [
  {
   "attachments": {},
   "cell_type": "markdown",
   "metadata": {},
   "source": [
    "# Entrega Ramp Up\n"
   ]
  },
  {
   "cell_type": "code",
   "execution_count": null,
   "metadata": {},
   "outputs": [],
   "source": [
    "\"\"\"\n",
    "Criterios de corrección:\n",
    "\n",
    "ejecución (ausencia de errores y obtención de resultados)\n",
    "estructura del código\n",
    "uso correcto de variables\n",
    "manejo de tipo de variables\n",
    "asignaciones\n",
    "operaciones booleanas\n",
    "manejo lógico de flujos de control y bucles\n",
    "uso de colecciones\n",
    "uso de funciones\n",
    "\"\"\";\n",
    "\n",
    "# Si no consigues los resultados, muestra los intentos\n",
    "\n",
    "# Ejemplo de como queremos ver el código para más de un intento:\n",
    "\n",
    "# intento 1\n",
    "#your code\n",
    "\n",
    "# intento 2\n",
    "#your code\n"
   ]
  },
  {
   "attachments": {},
   "cell_type": "markdown",
   "metadata": {},
   "source": [
    "## Ejercicio 1\n",
    "#### Crear un programa que calcule el promedio de una serie de números.\n",
    "\n",
    "El programa pedirá al usuario que introduzca numeros. En primer lugar le pedirá que indique cuantos números se quieren introducir, y enseñará un prompt para introducirlos (usando el método input), y calculará el promedio.\n"
   ]
  },
  {
   "cell_type": "code",
   "execution_count": null,
   "metadata": {},
   "outputs": [],
   "source": [
    "n = int(input(\"How many numbers do you have? \"))\n",
    "\n",
    "total = 0.0\n",
    "for i in range(n):\n",
    "    x = float(input(\"Enter a number >> \"))\n",
    "    total = total + x\n",
    "\n",
    "print(\"\\nThe average of the numbers is\", total / n)\n",
    "\n"
   ]
  },
  {
   "attachments": {},
   "cell_type": "markdown",
   "metadata": {},
   "source": [
    "## Ejercicio 2\n",
    "\n",
    "\n",
    "#### Escribe un programa en Python para convertir una lista de caracteres en un string.\n",
    "\n",
    "Lista de ejemplo : ['a','b','c','d']\n",
    "\n",
    "Salida esperada : abcd\n"
   ]
  },
  {
   "cell_type": "code",
   "execution_count": 4,
   "metadata": {},
   "outputs": [
    {
     "data": {
      "text/plain": [
       "'abcd'"
      ]
     },
     "execution_count": 4,
     "metadata": {},
     "output_type": "execute_result"
    }
   ],
   "source": [
    "lista=['a','b','c','d']\n",
    "\n",
    "texto=''.join(lista)\n",
    "texto"
   ]
  },
  {
   "attachments": {},
   "cell_type": "markdown",
   "metadata": {},
   "source": [
    "## Ejercicio 3\n",
    "\n",
    "#### Primeros y últimos 5 elementos\n",
    "Escribe un programa en Python que genere e imprima una lista que contenga los primeros y últimos 5 valores de los cuadrados de todos los números entre 1 y 30 (ambos inclusive). \n"
   ]
  },
  {
   "cell_type": "code",
   "execution_count": 18,
   "metadata": {},
   "outputs": [
    {
     "name": "stdout",
     "output_type": "stream",
     "text": [
      "[1, 4, 9, 16, 25]\n",
      "[900, 841, 784, 729, 676]\n"
     ]
    }
   ],
   "source": [
    "cuadrados= [i **2 for i in range(1,31)]\n",
    "\n",
    "primeros_cuadrados= cuadrados[0:5]\n",
    "print (primeros_cuadrados)\n",
    "\n",
    "segundos_cuadrados=cuadrados[-1:-6:-1]\n",
    "print (segundos_cuadrados)"
   ]
  },
  {
   "attachments": {},
   "cell_type": "markdown",
   "metadata": {},
   "source": [
    "## Ejercicio 4\n",
    "#### Interactuando con listas\n",
    "\n",
    "\n",
    "Respecto de la lista de gadgets [\"Móvil\", \"Portátil\", 100, \"Cámara\", 310,28, \"Altavoces\", 27,00,\n",
    "\"Televisión\", 1000, \"Maletín para portátil\", \"Lente de cámara\"], completa las siguientes acciones:\n",
    "\n",
    "a)Crea listas separadas de string y números.  \n",
    "\n",
    "b)Ordena la lista de strings en orden ascendente  \n",
    "\n",
    "c)Ordena la lista de strings en orden descendente  \n",
    "\n",
    "d)Ordena la lista de números de menor a mayor  \n",
    "\n",
    "e)Ordena la lista de números de mayor a menor\n",
    "\n"
   ]
  },
  {
   "cell_type": "code",
   "execution_count": 26,
   "metadata": {},
   "outputs": [
    {
     "name": "stdout",
     "output_type": "stream",
     "text": [
      "['Móvil', 'Portátil', 'Cámara', 'Altavoces', 'Televisión', 'Maletín para portátil', 'Lente de cámara']\n",
      "[100, 310, 28, 27, 0, 1000]\n",
      "['Altavoces', 'Cámara', 'Lente de cámara', 'Maletín para portátil', 'Móvil', 'Portátil', 'Televisión']\n",
      "['Televisión', 'Portátil', 'Móvil', 'Maletín para portátil', 'Lente de cámara', 'Cámara', 'Altavoces']\n",
      "[0, 27, 28, 100, 310, 1000]\n",
      "[1000, 310, 100, 28, 27, 0]\n"
     ]
    }
   ],
   "source": [
    "gadgets= [\"Móvil\", \"Portátil\", 100, \"Cámara\", 310,28, \"Altavoces\", 27,00,\"Televisión\", 1000, \"Maletín para portátil\", \"Lente de cámara\"]\n",
    "string=[]\n",
    "inf=[]\n",
    "for x in gadgets:\n",
    "    if type(x)==str:\n",
    "        string.append(x)\n",
    "    if type(x)==int:\n",
    "        inf.append(x)\n",
    "\n",
    "print(string)\n",
    "print(inf)\n",
    "\n",
    "string_ordenado=sorted(string)\n",
    "print(string_ordenado)\n",
    "\n",
    "string_ordenado2=sorted(string,reverse=True)\n",
    "print(string_ordenado2)\n",
    "\n",
    "inf_ordenado=sorted(inf)\n",
    "print(inf_ordenado)\n",
    "\n",
    "inf_ordenado2=sorted(inf,reverse=True)\n",
    "print(inf_ordenado2)"
   ]
  },
  {
   "attachments": {},
   "cell_type": "markdown",
   "metadata": {},
   "source": [
    "## Ejercicio 5\n",
    "#### Trabajando con listas anidadas\n",
    "\n",
    "Disponemos de una lista con información sobre varios empleados:\n",
    "\n",
    "    empleados = [[\"Juan Rodríguez\", 53, [\"Director financiero\"]],[\"Laura Pérez\", 41, [\"CEO\", \"Director\", \"Gerente\"]],[\"Pedro Álvarez\", 26, [\"Asistente\",\"Gestor comercial\"]]]\n",
    "\n",
    "Respecto de cada empleado, la lista contiene tres elementos: en el primero almacenamos su nombre, en el segundo su edad y en el tercero los puestos que ha desempeñado en la empresa (en forma de lista).\n",
    "\n",
    "1. Siguiendo la misma estructura, incluye un nuevo empleado en la última posición de la lista empleados.\n",
    "\n",
    "2. Mostrar por pantalla, sin uso de funciones (salvo print) ni bucles: \n",
    "\n",
    "    - El nombre y la edad del tercer empleado de la lista empleados.\n",
    "    - Los puestos desempeñados por Laura Pérez, ordenados de atras a adelante (es decir, de gerente a CEO)\n",
    "    - Si el nuevo empleado que has añadido tiene más de 30 años, muestra por pantalla los puestos que el nuevo empleado haya desempeñado en la empresa. En caso contrario, muestra los puestos desempeñados por Laura Pérez y Juan Rodriguez."
   ]
  },
  {
   "cell_type": "code",
   "execution_count": null,
   "metadata": {},
   "outputs": [],
   "source": []
  },
  {
   "attachments": {},
   "cell_type": "markdown",
   "metadata": {},
   "source": [
    "## Ejercicio 6\n",
    "\n",
    "#### Obtenga la primera y la segunda mejor puntuación de la lista.\n",
    "\n",
    "La lista puede contener duplicados.\n",
    "\n",
    "Ej: [86,86,85,85,85,83,23,45,84,1,2,0] => debería obtener, por este orden: 86, 85"
   ]
  },
  {
   "cell_type": "code",
   "execution_count": 33,
   "metadata": {},
   "outputs": [
    {
     "name": "stdout",
     "output_type": "stream",
     "text": [
      "[86, 86, 85, 85, 85]\n"
     ]
    },
    {
     "data": {
      "text/plain": [
       "[86, 86, 85, 85, 85, 83, 23, 45, 84, 1, 2, 0]"
      ]
     },
     "execution_count": 33,
     "metadata": {},
     "output_type": "execute_result"
    }
   ],
   "source": [
    "lista=[86,86,85,85,85,83,23,45,84,1,2,0]\n",
    "\n",
    "lista_copia=[]\n",
    "\n",
    "\n",
    "\n",
    "for x in lista:\n",
    "    if x> 84:\n",
    "        lista_copia.append(x)\n",
    "print(lista_copia)\n",
    "lista"
   ]
  },
  {
   "attachments": {},
   "cell_type": "markdown",
   "metadata": {},
   "source": [
    "## Ejercicio 7\n",
    "\n",
    "#### Escriba un programa que detecte si una string es un palíndromo\n",
    "\n",
    "Pedir al usuario una string e imprimir si esta string es un palíndromo o no. (Un palíndromo es un string que se lee igual hacia adelante y hacia atrás)."
   ]
  },
  {
   "cell_type": "code",
   "execution_count": 45,
   "metadata": {},
   "outputs": [
    {
     "name": "stdout",
     "output_type": "stream",
     "text": [
      "php es un palindromo\n"
     ]
    }
   ],
   "source": [
    "def funcion(palabra):\n",
    "    if palabra==palabra[::-1]:\n",
    "        print (palabra[0]+' es un palindromo')\n",
    "    else:\n",
    "        print (palabra[0]+' no es un palindromo')\n",
    "\n",
    "funcion(['php'])\n"
   ]
  },
  {
   "attachments": {},
   "cell_type": "markdown",
   "metadata": {},
   "source": [
    "## Ejercicio 8\n",
    "#### Crear un programa que calcule la cuota de una hipoteca\n",
    "\n",
    "Las cuotas hipotecarias se calculan utilizando la fórmula del interés frances. El objetivo del ejercicio es crear un programa que solicite al usuario los datos de su hipoteca (cantidad, intereses, y plazo en años) y le devuelva la cuota mensual a pagar\n",
    "\n",
    "La formula del interés frances es la siguiente:\n",
    "\\begin{align*}\n",
    "C=V \\frac{(1+i)^n i}{(1+i)^n -1}\n",
    "\\end{align*}\n",
    "\n",
    "\n",
    "    C = Cuota a pagar\n",
    "    V = Cantidad del préstamo hipotecario\n",
    "    i = tipo de interés del período (tipo de interes de la hipoteca por mes)\n",
    "    n = número de cuotas (en meses)\n",
    "\n",
    "V = 300.000\n",
    "\n",
    "i = 2 %\n",
    "\n",
    "n = 20*12\n",
    "\n",
    "output: 1517"
   ]
  },
  {
   "cell_type": "code",
   "execution_count": 48,
   "metadata": {},
   "outputs": [
    {
     "data": {
      "text/plain": [
       "20174"
      ]
     },
     "execution_count": 48,
     "metadata": {},
     "output_type": "execute_result"
    }
   ],
   "source": [
    "def funcion():\n",
    "    v=int(input('Introduce el valor de la casa'))\n",
    "    i=0.02\n",
    "    n=20*12\n",
    "    c=v*((1+i)**n*i)/((1+i)**n-1)\n",
    "    return round(c)\n",
    "\n",
    "funcion()\n",
    "\n",
    "    "
   ]
  },
  {
   "attachments": {},
   "cell_type": "markdown",
   "metadata": {},
   "source": [
    "## Ejercicio 9\n",
    "#### Crear un programa que calcule el plan de amortización\n",
    "\n",
    "El objetivo del ejercicio es crear un programa que solicite al usuario los datos de su hipoteca (cantidad, intereses, y plazo en años) y le devuelva el plan de amortización.\n",
    "\n",
    "En cada cuota se pagan intereses por el capital restante, y se devuelve capital hasta la cuota mensual. El capital restante ha de ser actualizado restandole el capital devuelto.\n",
    "\n",
    "Salida ejemplo:\n",
    "\n",
    "mes  cuota  intereses  principal  pendiente   \n",
    "\n",
    "0  758.89   450.00   308.89   179691.11 \n",
    "\n",
    "**NOTA**: Tienes que partir de tipo de interes por periodo calculado en el apartado anterior, y del total de la hipoteca. Para cada mes calcular:\n",
    "\n",
    "1. cuota (apartado anterior)\n",
    "2. intereses a pagar del mes (lo que quede por pagar * interes por periodo del apartado anterior)\n",
    "3. principal (cuota - interes)\n",
    "4. pendiente (lo que quede por pagar - principal)"
   ]
  },
  {
   "cell_type": "code",
   "execution_count": null,
   "metadata": {},
   "outputs": [],
   "source": [
    "# por ejemplo con 50000 de hipoteca\n",
    "'''\n",
    "mes  cuota  intereses  principal  pendiente\n",
    "0  990.06   291.67   698.39   49301.61 \n",
    "1  990.06   287.59   702.47   48599.14 \n",
    "2  990.06   283.49   706.56   47892.57 \n",
    "3  990.06   279.37   710.69   47181.89 \n",
    "4  990.06   275.23   714.83   46467.06 \n",
    "5  990.06   271.06   719.00   45748.05 \n",
    "6  990.06   266.86   723.20   45024.86 \n",
    "7  990.06   262.65   727.41   44297.44 \n",
    "8  990.06   258.40   731.66   43565.78 \n",
    "9  990.06   254.13   735.93   42829.86 \n",
    "10  990.06   249.84   740.22   42089.64\n",
    "'''"
   ]
  },
  {
   "attachments": {},
   "cell_type": "markdown",
   "metadata": {},
   "source": [
    "## Ejercicio 10\n",
    "#### Crear un programa que resuelva una ecuación de segundo grado \n",
    "\n",
    "El objetivo del programa es resolver la ecuación de segundo grado \n",
    "\n",
    "\\begin{align*}\n",
    "ax^2+bx+c = 0\n",
    "\\end{align*}\n",
    "\n",
    "Pasando como parámetros los coeficientes de la ecuación. La resolución de la ecuación es la siguiente:\n",
    "\n",
    "\\begin{align*}\n",
    "x=\\frac{-b \\pm \\sqrt{b^2-4ac}}{2a}\n",
    "\\end{align*}\n",
    "\n",
    "Para realizar este programa tienes que utilizar el metodo sqrt() para calcular la raiz cuadrada. Para ello tienes que importar el módulo math. Así que tu programa debería empezar con ```ìmport math```"
   ]
  },
  {
   "cell_type": "code",
   "execution_count": null,
   "metadata": {},
   "outputs": [],
   "source": [
    "import math\n",
    "\n",
    "def funcion(x,y,z):\n",
    "    valor=int(input('Introduce 3 numeros, el primero para el valor de x...'))\n",
    "\n"
   ]
  },
  {
   "attachments": {},
   "cell_type": "markdown",
   "metadata": {},
   "source": [
    "## (Bonus) Ejercicio 11\n",
    "#### Desarrolla el juego del ahorcado\n",
    "El juego del ahorcado consiste en adivinar una palabra, probando letra a letra. El jugador tiene permitidos 6 fallos, al 7mo fallo pierde. \n",
    "\n",
    "* Habrá que imprimir por pantalla una cantidad de guiones igual al numero de letras e ir sustituyéndolos con los aciertos.\n",
    "* Necesitarás usar un bucle while con un input para modelar las jugadas del ahoracado. En cada ejecución del while comprueba las vidas del jugador, y los aciertos."
   ]
  },
  {
   "cell_type": "code",
   "execution_count": null,
   "metadata": {},
   "outputs": [],
   "source": []
  }
 ],
 "metadata": {
  "kernelspec": {
   "display_name": "Python 3 (ipykernel)",
   "language": "python",
   "name": "python3"
  },
  "language_info": {
   "codemirror_mode": {
    "name": "ipython",
    "version": 3
   },
   "file_extension": ".py",
   "mimetype": "text/x-python",
   "name": "python",
   "nbconvert_exporter": "python",
   "pygments_lexer": "ipython3",
   "version": "3.11.4"
  },
  "vscode": {
   "interpreter": {
    "hash": "252189e587d1e2aeba4a06e91fa71896c7a7f6e22e918b9407c7cde4ef2d5985"
   }
  }
 },
 "nbformat": 4,
 "nbformat_minor": 4
}
