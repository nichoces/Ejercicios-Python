{
 "cells": [
  {
   "attachments": {},
   "cell_type": "markdown",
   "metadata": {},
   "source": [
    "![imagen](./img/ejercicios.png)"
   ]
  },
  {
   "attachments": {},
   "cell_type": "markdown",
   "metadata": {},
   "source": [
    "## Ejercicio 1\n",
    "1. Elimina todos los VW de la siguiente lista. Crea una lista nueva para ello.\n",
    "2. Hazlo de otra manera. Crea una lista nueva, y ve añadiendo todos los que no sean VW\n",
    "3. En vez de `for`, usa un bucle `while`\n",
    "> ejer_1 = [\"VW\", \"Audi\", \"Renault\", \"VW\", \"BMW\"]"
   ]
  },
  {
   "cell_type": "code",
   "execution_count": 66,
   "metadata": {},
   "outputs": [
    {
     "name": "stdout",
     "output_type": "stream",
     "text": [
      "['Audi', 'Renault', 'BMW']\n"
     ]
    }
   ],
   "source": [
    "ejer_1 = [\"VW\", \"Audi\", \"Renault\", \"VW\", \"BMW\"]\n",
    "\n",
    "for x in ejer_1:\n",
    "    if x == \"VW\":\n",
    "        ejer_1.remove(x)\n",
    "print(ejer_1)"
   ]
  },
  {
   "cell_type": "code",
   "execution_count": 69,
   "metadata": {},
   "outputs": [
    {
     "name": "stdout",
     "output_type": "stream",
     "text": [
      "['Audi', 'Renault', 'BMW']\n"
     ]
    }
   ],
   "source": [
    "ejer_1 = [\"VW\", \"Audi\", \"Renault\", \"VW\", \"BMW\"]\n",
    "lista=[]\n",
    "\n",
    "for x in ejer_1:\n",
    "    if x != \"VW\":\n",
    "        lista.append(x)\n",
    "print(lista)"
   ]
  },
  {
   "cell_type": "code",
   "execution_count": 1,
   "metadata": {},
   "outputs": [
    {
     "name": "stdout",
     "output_type": "stream",
     "text": [
      "0\n",
      "[]\n",
      "1\n",
      "['Audi']\n",
      "2\n",
      "['Audi', 'Renault']\n",
      "3\n",
      "['Audi', 'Renault']\n",
      "4\n",
      "['Audi', 'Renault', 'BMW']\n",
      "\n",
      "Fin del bucle: ['Audi', 'Renault', 'BMW']\n"
     ]
    }
   ],
   "source": []
  },
  {
   "attachments": {},
   "cell_type": "markdown",
   "metadata": {},
   "source": [
    "## Ejercicio 2\n",
    "Imprime por pantalla la siguiente secuencia: 10, 9, 8.... -8, -9, -10"
   ]
  },
  {
   "cell_type": "code",
   "execution_count": 70,
   "metadata": {},
   "outputs": [
    {
     "name": "stdout",
     "output_type": "stream",
     "text": [
      "10\n",
      "9\n",
      "8\n",
      "7\n",
      "6\n",
      "5\n",
      "4\n",
      "3\n",
      "2\n",
      "1\n",
      "0\n",
      "-1\n",
      "-2\n",
      "-3\n",
      "-4\n",
      "-5\n",
      "-6\n",
      "-7\n",
      "-8\n",
      "-9\n",
      "-10\n"
     ]
    }
   ],
   "source": [
    "for x in range(10,-11,-1):\n",
    "    print(x)"
   ]
  },
  {
   "attachments": {},
   "cell_type": "markdown",
   "metadata": {},
   "source": [
    "## Ejercicio 3\n",
    "1. Escribe un programa que vaya pidiendo numeros al usuario. Cuando el usuario introduzca el 0, el programa tiene que imprimir por pantalla el sumatorio de todos los numeros positivos introducidos\n",
    "2. Además de la suma, queremos que imprima también una lista con todos los números."
   ]
  },
  {
   "cell_type": "code",
   "execution_count": 72,
   "metadata": {},
   "outputs": [
    {
     "name": "stdout",
     "output_type": "stream",
     "text": [
      "La suma es  6\n",
      "La lista es  [1, 2, 3]\n"
     ]
    }
   ],
   "source": [
    "suma=0\n",
    "\n",
    "\n",
    "while True:\n",
    "    x=int(input(\"Introduce 0 para parar\"))\n",
    "    if x ==0:\n",
    "        break\n",
    "\n",
    "\n",
    "    if x>0:\n",
    "        suma=x+suma\n",
    "\n",
    "print(\"La suma es \",suma)\n",
    "\n",
    "    "
   ]
  },
  {
   "cell_type": "code",
   "execution_count": 3,
   "metadata": {},
   "outputs": [
    {
     "name": "stdout",
     "output_type": "stream",
     "text": [
      "El sumatorio de todos los enteros positivos fue de 12\n",
      "Los numeros fueron [4, 8]\n"
     ]
    }
   ],
   "source": [
    "suma=0\n",
    "lista = []\n",
    "\n",
    "while True:\n",
    "    x=int(input(\"Introduce 0 para parar\"))\n",
    "    if x ==0:\n",
    "        break\n",
    "    lista.append(x)\n",
    "\n",
    "    if x>0:\n",
    "        suma=x+suma\n",
    "\n",
    "print(\"La suma es \",suma)\n",
    "print(\"La lista es \", lista)"
   ]
  },
  {
   "attachments": {},
   "cell_type": "markdown",
   "metadata": {},
   "source": [
    "## Ejercicio 4\n",
    "Escribir un programa que vaya pidiendo la cantidad de compras de un cliente. El programa tiene que pedir cantidades hasta que se ingresa un 0. Igualmente cuando una de las cantiaddes introducida es negativa, hay que mandar un mensaje de que \"la cantidad es negativa, por favor introducir numeros positivos\""
   ]
  },
  {
   "cell_type": "code",
   "execution_count": 6,
   "metadata": {},
   "outputs": [
    {
     "name": "stdout",
     "output_type": "stream",
     "text": [
      "Numero negativo, por favor, introduzca un numero positivo: \n",
      "Numero negativo, por favor, introduzca un numero positivo: \n",
      "Total de compras 7\n"
     ]
    }
   ],
   "source": [
    "while True:\n",
    "    x=int(input('Introduce 0 para parar'))\n",
    "    if x==0:\n",
    "        break\n",
    "    elif x<0 :\n",
    "        print(\"Introduce un numero positivo\")\n"
   ]
  },
  {
   "attachments": {},
   "cell_type": "markdown",
   "metadata": {},
   "source": [
    "## Ejercicio 5\n",
    "Imprime por pantalla la palabra \"Python\", pero empezando con la última letra."
   ]
  },
  {
   "cell_type": "code",
   "execution_count": 94,
   "metadata": {},
   "outputs": [
    {
     "name": "stdout",
     "output_type": "stream",
     "text": [
      "n\n",
      "o\n",
      "h\n",
      "t\n",
      "y\n",
      "P\n"
     ]
    }
   ],
   "source": [
    "palabra = \"Python\"\n",
    "palabra_invertida = palabra[::-1]\n",
    "for x in palabra_invertida:\n",
    "    print(x)\n"
   ]
  },
  {
   "cell_type": "code",
   "execution_count": null,
   "metadata": {},
   "outputs": [],
   "source": [
    "\n",
    "    "
   ]
  },
  {
   "attachments": {},
   "cell_type": "markdown",
   "metadata": {},
   "source": [
    "## Ejercicio 6\n",
    "Escribe un programa que calcule la cantidad de veces que está la letra \"m\" o \"M\" en la frase:\n",
    "> \"En un lugar de La Mancha, de cuyo nombre no quiero acordarme\""
   ]
  },
  {
   "cell_type": "code",
   "execution_count": 80,
   "metadata": {},
   "outputs": [
    {
     "name": "stdout",
     "output_type": "stream",
     "text": [
      "Las letras aparecen 3 veces\n"
     ]
    }
   ],
   "source": [
    "texto = \"En un lugar de La Mancha, de cuyo nombre no quiero acordarme\"\n",
    "\n",
    "\n",
    "contador = 0\n",
    "for letra in texto:\n",
    "    if letra == 'm' or letra == 'M':\n",
    "        contador += 1\n",
    "\n",
    "print(\"Las letras aparecen\", contador, \"veces\")"
   ]
  },
  {
   "attachments": {},
   "cell_type": "markdown",
   "metadata": {},
   "source": [
    "## Ejercicio 7\n",
    "Crea un programa que simule la siguiente pirámide. Para ello, el programa tiene que pedirle al usuario un caracter cualquiera. El número de filas es fijo, 5. Vas a necesitar usar dos bucles anidados.\n",
    "\n",
    "W W W W W \n",
    "\n",
    "W W W W \n",
    "\n",
    "W W W \n",
    "\n",
    "W W \n",
    "\n",
    "W \n",
    "\n",
    "\n"
   ]
  },
  {
   "cell_type": "code",
   "execution_count": 95,
   "metadata": {},
   "outputs": [
    {
     "name": "stdout",
     "output_type": "stream",
     "text": [
      "w w w w w \n",
      "w w w w \n",
      "w w w \n",
      "w w \n",
      "w \n"
     ]
    }
   ],
   "source": [
    "caracter = input(\"Ingrese un carácter: \")\n",
    "\n",
    "for i in range(5, 0, -1):\n",
    "    for j in range(i):\n",
    "        print(caracter, end=\" \")\n",
    "    print()"
   ]
  },
  {
   "attachments": {},
   "cell_type": "markdown",
   "metadata": {},
   "source": [
    " ## Ejercicio 8\n",
    " Crea un programa que en función de un input numérico que inserte el usuario, imprima por pantalla la pirámide de ejemplo. Si el input es 6, tendrá 6 pisos, pero si introduce 10, la pirámide tendrá 10 pisos.\n",
    " \n",
    " 1 2 3 4 5 6\n",
    " \n",
    " 1 2 3 4 5\n",
    " \n",
    " 1 2 3 4\n",
    " \n",
    " 1 2 3\n",
    " \n",
    " 1 2\n",
    " \n",
    " 1"
   ]
  },
  {
   "cell_type": "code",
   "execution_count": 79,
   "metadata": {},
   "outputs": [
    {
     "name": "stdout",
     "output_type": "stream",
     "text": [
      "3 2 1 \n",
      "2 1 \n",
      "1 \n"
     ]
    }
   ],
   "source": [
    "n = int(input('Introduce un numero'))\n",
    "\n",
    "for i in range(n, 0, -1):\n",
    "    for j in range(i, 0, -1):\n",
    "        print(j, end=\" \")\n",
    "    print()\n"
   ]
  },
  {
   "attachments": {},
   "cell_type": "markdown",
   "metadata": {},
   "source": [
    "## Ejercicio 9\n",
    "Replica el siguiente patrón"
   ]
  },
  {
   "cell_type": "raw",
   "metadata": {},
   "source": [
    "* \n",
    "* * \n",
    "* * * \n",
    "* * * * \n",
    "* * * * * \n",
    "* * * * \n",
    "* * * \n",
    "* * \n",
    "* "
   ]
  },
  {
   "cell_type": "code",
   "execution_count": 82,
   "metadata": {},
   "outputs": [
    {
     "name": "stdout",
     "output_type": "stream",
     "text": [
      "* \n",
      "* * \n",
      "* * * \n",
      "* * * * \n",
      "* * * * * \n",
      "* * * * \n",
      "* * * \n",
      "* * \n",
      "* \n"
     ]
    }
   ],
   "source": [
    "for i in range(1, 6):\n",
    "    print(\"* \" * i)\n",
    "\n",
    "for i in range(4, 0, -1):\n",
    "    print(\"* \" * i)"
   ]
  },
  {
   "attachments": {},
   "cell_type": "markdown",
   "metadata": {},
   "source": [
    "## Ejercicio 10\n",
    "Imprime toda la secuencia de numeros del 1 al 10, excepto el 3, 4 y 9. Impleméntalo de dos maneras diferentes"
   ]
  },
  {
   "cell_type": "code",
   "execution_count": 99,
   "metadata": {},
   "outputs": [
    {
     "name": "stdout",
     "output_type": "stream",
     "text": [
      "1\n",
      "2\n",
      "5\n",
      "6\n",
      "7\n",
      "8\n",
      "10\n",
      "1\n",
      "2\n",
      "5\n",
      "6\n",
      "7\n",
      "8\n",
      "10\n"
     ]
    }
   ],
   "source": [
    "# Forma 1\n",
    "for x in range(1, 11):\n",
    "    if x != 3 and x != 4 and x != 9:\n",
    "        print(x)\n",
    "\n",
    "# Forma 2\n",
    "var=None\n",
    "if var == None:\n",
    "    for x in range(1,3):\n",
    "        print(x)\n",
    "    for y in range(5,9):\n",
    "        print (y)\n",
    "    for z in range(10,11):\n",
    "        print(z)\n",
    "\n",
    "\n",
    "\n",
    "\n"
   ]
  },
  {
   "attachments": {},
   "cell_type": "markdown",
   "metadata": {},
   "source": [
    "## Ejercicio 11\n",
    "Suponiendo que siempre se cumple que las dos listas del ejercicio son iguales de tamaño, implementa un programa que calcule el ratio ingreso/gasto de cada elemento, y lo guarde en una nueva lista. Si hubiese algún problema con los datos, hay que almacenar un mensaje de error en la lista del resultado. Usa `try/except`\n",
    "> ingresos = [100, 200, 500, 100, 600]\n",
    ">\n",
    "> gastos = [50, 20, 70, 0, 25]"
   ]
  },
  {
   "cell_type": "code",
   "execution_count": 112,
   "metadata": {},
   "outputs": [
    {
     "name": "stdout",
     "output_type": "stream",
     "text": [
      "Ambas tablas deben contener los mismos elementos\n",
      "[50, 180, 430, 575]\n"
     ]
    }
   ],
   "source": [
    "ingresos = [100, 200, 500, 100, 600]\n",
    "gastos = [50, 20, 70, 0, 25]\n",
    "total_tabla = []\n",
    "\n",
    "if len(ingresos)==len(gastos):\n",
    "    for ingreso, gasto in zip(ingresos, gastos):\n",
    "        if gasto != 0:\n",
    "            total = ingreso - gasto\n",
    "            total_tabla.append(total)\n",
    "else:\n",
    "    print (\"No hay el mismo numero de datos en ambas tablas, no se pueden sumar\")\n",
    "\n",
    "try:\n",
    "    ingresos.append(890)\n",
    "    print(ingresos-gastos)\n",
    "except:\n",
    "    print('Ambas tablas deben contener los mismos elementos')\n",
    "\n",
    "print (total_tabla)\n",
    "\n",
    "       \n",
    "\n"
   ]
  },
  {
   "attachments": {},
   "cell_type": "markdown",
   "metadata": {},
   "source": [
    "## Ejercicio 12\n",
    "Muy parecido al anterior, aunque ahora tendremos que excepcionar más tipos de errores con estos nuevos datos. En este caso, almacena un mensaje diferente en la lista resultado, para cada error.\n",
    "\n",
    "> ingresos = [100, \"HHH\", 500, 100, 600, 900, 150]\n",
    ">\n",
    "> gastos = [50, 20, 70, 0, 25]"
   ]
  },
  {
   "cell_type": "code",
   "execution_count": 11,
   "metadata": {},
   "outputs": [
    {
     "name": "stdout",
     "output_type": "stream",
     "text": [
      "<class 'TypeError'>\n",
      "<class 'ZeroDivisionError'>\n",
      "<class 'IndexError'>\n",
      "<class 'IndexError'>\n",
      "[2.0, 'TypeError', 7.142857142857143, 'Zero division error', 24.0, 'Index Error', 'Index Error']\n"
     ]
    }
   ],
   "source": []
  }
 ],
 "metadata": {
  "kernelspec": {
   "display_name": "Python 3.7.4 64-bit",
   "language": "python",
   "name": "python3"
  },
  "language_info": {
   "codemirror_mode": {
    "name": "ipython",
    "version": 3
   },
   "file_extension": ".py",
   "mimetype": "text/x-python",
   "name": "python",
   "nbconvert_exporter": "python",
   "pygments_lexer": "ipython3",
   "version": "3.7.4"
  },
  "vscode": {
   "interpreter": {
    "hash": "252189e587d1e2aeba4a06e91fa71896c7a7f6e22e918b9407c7cde4ef2d5985"
   }
  }
 },
 "nbformat": 4,
 "nbformat_minor": 4
}
