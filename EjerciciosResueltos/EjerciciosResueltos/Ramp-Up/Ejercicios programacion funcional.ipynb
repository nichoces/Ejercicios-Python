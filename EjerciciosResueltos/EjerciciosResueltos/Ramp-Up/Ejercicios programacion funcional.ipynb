{
 "cells": [
  {
   "attachments": {},
   "cell_type": "markdown",
   "metadata": {},
   "source": [
    "![imagen](./img/ejercicios.png)\n",
    "\n",
    "# Ejercicios Programación funcional\n",
    "## Ejercicio 1\n",
    "Utiliza `reduce` para concatenar estas palabras en una frase\n",
    "```Python\n",
    "ejer_1 = (\"to\", \"be\", \"or\", \"not\", \"to\", \"be\", \"that\", \"is\", \"the\", \"question\")\n",
    "```"
   ]
  },
  {
   "cell_type": "code",
   "execution_count": 14,
   "metadata": {},
   "outputs": [
    {
     "name": "stdout",
     "output_type": "stream",
     "text": [
      "to be or not to be that is the question\n"
     ]
    }
   ],
   "source": [
    "from functools import reduce\n",
    "ejer_1 = (\"to\", \"be\", \"or\", \"not\", \"to\", \"be\", \"that\", \"is\", \"the\", \"question\")\n",
    "\n",
    "texto = reduce(lambda x, y: x + \" \" + y, ejer_1)\n",
    "\n",
    "print(texto) "
   ]
  },
  {
   "attachments": {},
   "cell_type": "markdown",
   "metadata": {},
   "source": [
    "## Ejercicio 2\n",
    "Obtén una nueva tupla con el cuadrado de cada elemento de la siguiente tupla\n",
    "\n",
    "```Python\n",
    "ejer_2 = (1,2,3,4,5)\n",
    "```"
   ]
  },
  {
   "cell_type": "code",
   "execution_count": 2,
   "metadata": {},
   "outputs": [
    {
     "data": {
      "text/plain": [
       "(1, 4, 9, 16, 25)"
      ]
     },
     "execution_count": 2,
     "metadata": {},
     "output_type": "execute_result"
    }
   ],
   "source": [
    "ejer_2 = (1,2,3,4,5)\n",
    "\n",
    "tupla=tuple(map(lambda x : x**2,ejer_2))\n",
    "tupla"
   ]
  },
  {
   "attachments": {},
   "cell_type": "markdown",
   "metadata": {},
   "source": [
    "## Ejercicio 3\n",
    "Filtra aquellos elementos que sean multiplos de 3 o de 5\n",
    "```Python\n",
    "ejer_3 = (1,2,3,4,5,15,21,22,33,34,35)\n",
    "```"
   ]
  },
  {
   "cell_type": "code",
   "execution_count": 6,
   "metadata": {},
   "outputs": [
    {
     "data": {
      "text/plain": [
       "(3, 5, 15, 21, 33, 35)"
      ]
     },
     "execution_count": 6,
     "metadata": {},
     "output_type": "execute_result"
    }
   ],
   "source": [
    "ejer_3 = (1,2,3,4,5,15,21,22,33,34,35)\n",
    "\n",
    "tupla= tuple(filter(lambda x: x%3==0 or  x%5==0, ejer_3))\n",
    "tupla\n"
   ]
  },
  {
   "attachments": {},
   "cell_type": "markdown",
   "metadata": {},
   "source": [
    "## Ejercicio 4\n",
    "Convierte la siguiente tupla de pesetas a euros\n",
    "```Python\n",
    "ejer_4 = (1000, 8000, 20000000, 40000000)\n",
    "```"
   ]
  },
  {
   "cell_type": "code",
   "execution_count": 13,
   "metadata": {},
   "outputs": [
    {
     "data": {
      "text/plain": [
       "[6, 48, 120482, 240964]"
      ]
     },
     "execution_count": 13,
     "metadata": {},
     "output_type": "execute_result"
    }
   ],
   "source": [
    "ejer_4 = (1000, 8000, 20000000, 40000000)\n",
    "\n",
    "lista = list(map(lambda x: x / 166, ejer_4))\n",
    "lista2=list(map(round,lista))\n",
    "lista2"
   ]
  },
  {
   "attachments": {},
   "cell_type": "markdown",
   "metadata": {},
   "source": [
    "## Ejercicio 5\n",
    "Convierte la siguiente lista de desconocidos a mayusculas\n",
    "```Python\n",
    "ejer_5 = (\"Arya\", \"John\", \"Robb\", \"Bran\", \"Sansa\", \"Rickon\")\n",
    "```"
   ]
  },
  {
   "cell_type": "code",
   "execution_count": 18,
   "metadata": {},
   "outputs": [
    {
     "data": {
      "text/plain": [
       "('ARYA', 'JOHN', 'ROBB', 'BRAN', 'SANSA', 'RICKON')"
      ]
     },
     "execution_count": 18,
     "metadata": {},
     "output_type": "execute_result"
    }
   ],
   "source": [
    "ejer_5 = (\"Arya\", \"John\", \"Robb\", \"Bran\", \"Sansa\", \"Rickon\")\n",
    "\n",
    "lista=tuple(map(str.upper,ejer_5))\n",
    "lista\n",
    "\n"
   ]
  },
  {
   "attachments": {},
   "cell_type": "markdown",
   "metadata": {},
   "source": [
    "## Ejercicio 6\n",
    "Realiza un conversor de dias de la semana en texto a numerico (1-7), usando `map`.\n",
    "```Python\n",
    "ejer_6 = (\"Lunes\", \"Martes\", \"Miércoles\", \"Jueves\", \"Viernes\", \"Sábado\", \"Domingo\")\n",
    "```"
   ]
  },
  {
   "cell_type": "code",
   "execution_count": 37,
   "metadata": {},
   "outputs": [
    {
     "name": "stdout",
     "output_type": "stream",
     "text": [
      "[1, 2, 3, 4, 5, 6, 7]\n"
     ]
    }
   ],
   "source": [
    "ejer_6 = (\"Lunes\", \"Martes\", \"Miércoles\", \"Jueves\", \"Viernes\", \"Sábado\", \"Domingo\")\n",
    "\n",
    "\n",
    "lista = map(lambda x: ejer_6.index(x) + 1  , ejer_6)\n",
    "print(list(lista))"
   ]
  },
  {
   "attachments": {},
   "cell_type": "markdown",
   "metadata": {},
   "source": [
    "## Ejercicio 7\n",
    "Utiliza `map` para multiplicar elemento a elemento estas dos tuplas\n",
    "```Python\n",
    "ejer_7_1 = (2, 5, 8)\n",
    "ejer_7_2 = (6, 3, 2)\n",
    "```"
   ]
  },
  {
   "cell_type": "code",
   "execution_count": 23,
   "metadata": {},
   "outputs": [
    {
     "data": {
      "text/plain": [
       "[12, 15, 16]"
      ]
     },
     "execution_count": 23,
     "metadata": {},
     "output_type": "execute_result"
    }
   ],
   "source": [
    "ejer_7_1 = (2, 5, 8)\n",
    "ejer_7_2 = (6, 3, 2)\n",
    "\n",
    "multiplicacion = list(map(lambda x, y: x * y, ejer_7_1, ejer_7_2))\n",
    "multiplicacion"
   ]
  },
  {
   "attachments": {},
   "cell_type": "markdown",
   "metadata": {},
   "source": [
    "## Ejercicio 8\n",
    "Crea una tupla nueva con todos los coches que no sean VW :)\n",
    "\n",
    "```Python\n",
    "ejer_8 = (\"VW\", \"Audi\", \"Renault\", \"VW\", \"BMW\")\n",
    "```"
   ]
  },
  {
   "cell_type": "code",
   "execution_count": 25,
   "metadata": {},
   "outputs": [
    {
     "data": {
      "text/plain": [
       "('Audi', 'Renault', 'BMW')"
      ]
     },
     "execution_count": 25,
     "metadata": {},
     "output_type": "execute_result"
    }
   ],
   "source": [
    "ejer_8 = (\"VW\", \"Audi\", \"Renault\", \"VW\", \"BMW\")\n",
    "tupla = tuple(filter(lambda x: x != \"VW\", ejer_8))\n",
    "tupla "
   ]
  },
  {
   "attachments": {},
   "cell_type": "markdown",
   "metadata": {},
   "source": [
    "## Ejercicio 9\n",
    "Dadas las siguientes fechas en formato string, quedate con aquellas del año 2023\n",
    "\n",
    "```Python\n",
    "ejer_9 = (\"2022-04-08\", \"2023-10-10\", \"2023-01-22\", \"2022-07-13\", \"2022-02-01\")\n",
    "```"
   ]
  },
  {
   "cell_type": "code",
   "execution_count": 28,
   "metadata": {},
   "outputs": [
    {
     "data": {
      "text/plain": [
       "('2023-10-10', '2023-01-22')"
      ]
     },
     "execution_count": 28,
     "metadata": {},
     "output_type": "execute_result"
    }
   ],
   "source": [
    "ejer_9 = (\"2022-04-08\", \"2023-10-10\", \"2023-01-22\", \"2022-07-13\", \"2022-02-01\")\n",
    "\n",
    "fechas=tuple(filter(lambda x : x.startswith('2023'),ejer_9))\n",
    "fechas"
   ]
  },
  {
   "attachments": {},
   "cell_type": "markdown",
   "metadata": {},
   "source": [
    "## Ejercicio 10\n",
    "Filtra aquellos strings que sean [palíndromos](https://es.wikipedia.org/wiki/Pal%C3%ADndromo)\n",
    "```Python\n",
    "ejer_10 = (\"php\", \"w3r\", \"Python\", \"abcd\", \"Java\", \"aaa\")\n",
    "```"
   ]
  },
  {
   "cell_type": "code",
   "execution_count": 32,
   "metadata": {},
   "outputs": [
    {
     "data": {
      "text/plain": [
       "('php', 'aaa')"
      ]
     },
     "execution_count": 32,
     "metadata": {},
     "output_type": "execute_result"
    }
   ],
   "source": [
    "ejer_10 = (\"php\", \"w3r\", \"Python\", \"abcd\", \"Java\", \"aaa\")\n",
    "\n",
    "x=tuple(filter(lambda x: x == x [::-1], ejer_10))\n",
    "x"
   ]
  }
 ],
 "metadata": {
  "kernelspec": {
   "display_name": "Python 3 (ipykernel)",
   "language": "python",
   "name": "python3"
  },
  "language_info": {
   "codemirror_mode": {
    "name": "ipython",
    "version": 3
   },
   "file_extension": ".py",
   "mimetype": "text/x-python",
   "name": "python",
   "nbconvert_exporter": "python",
   "pygments_lexer": "ipython3",
   "version": "3.11.4"
  }
 },
 "nbformat": 4,
 "nbformat_minor": 4
}
