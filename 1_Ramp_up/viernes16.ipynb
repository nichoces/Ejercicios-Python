{
 "cells": [
  {
   "cell_type": "code",
   "execution_count": 22,
   "id": "0d8fa630-6dae-42b0-a28c-2593770921b7",
   "metadata": {},
   "outputs": [
    {
     "name": "stdout",
     "output_type": "stream",
     "text": [
      "<enumerate object at 0x000001B53ECD5040>\n",
      "aquí 3 <enumerate object at 0x000001B53ECD5040>\n",
      "{0: 'h', 1: 'o', 2: 'l', 3: 'a'}\n"
     ]
    },
    {
     "data": {
      "text/plain": [
       "'\\nfor x in valor_retornado:\\n    print(x)\\n'"
      ]
     },
     "execution_count": 22,
     "metadata": {},
     "output_type": "execute_result"
    }
   ],
   "source": [
    "# enumerate\n",
    "\n",
    "valor_retornado = enumerate(\"hola\") # [(0, \"h\"), (1, \"o\"), (2,\"l\"), (3,\"a\")]\n",
    "print(valor_retornado)\n",
    "\n",
    "mi_dic = dict(valor_retornado)\n",
    "print(\"aquí 3\", valor_retornado)\n",
    "\n",
    "print(mi_dic)\n",
    "\n",
    "#print(\"aquí 1\", valor_retornado)\n",
    "#print(\"aquí 2\",mi_dic)\n",
    "\n",
    "'''\n",
    "for x in valor_retornado:\n",
    "    print(x)\n",
    "'''"
   ]
  },
  {
   "cell_type": "code",
   "execution_count": 30,
   "id": "b4012772-1454-447a-805f-233935f29af7",
   "metadata": {},
   "outputs": [
    {
     "name": "stdout",
     "output_type": "stream",
     "text": [
      "indice 0 --> valor h\n",
      "indice 1 --> valor o\n",
      "indice 2 --> valor l\n",
      "indice 3 --> valor a\n"
     ]
    }
   ],
   "source": [
    "for (indice, valor) in enumerate(\"hola\"):\n",
    "    print(\"indice\", indice, end = \"\")\n",
    "    print(\" --> valor\", valor)\n",
    "    "
   ]
  },
  {
   "cell_type": "code",
   "execution_count": 32,
   "id": "ed232322-682f-40b1-8267-5788de824338",
   "metadata": {},
   "outputs": [
    {
     "name": "stdout",
     "output_type": "stream",
     "text": [
      "indice: 0--> valor: h\n",
      "indice: 1--> valor: o\n",
      "indice: 2--> valor: l\n",
      "indice: 3--> valor: a\n"
     ]
    }
   ],
   "source": [
    "for (indice, valor) in enumerate(\"hola\"):\n",
    "    print(\"indice: \"+ str(indice), \" valor: \"+str(valor), sep = \"-->\")"
   ]
  },
  {
   "cell_type": "code",
   "execution_count": 33,
   "id": "a14c29d8-4983-4b3f-b97b-6db145039302",
   "metadata": {},
   "outputs": [
    {
     "name": "stdout",
     "output_type": "stream",
     "text": [
      "indice: 0  --> valor: h\n",
      "indice: 1  --> valor: o\n",
      "indice: 2  --> valor: l\n",
      "indice: 3  --> valor: a\n"
     ]
    }
   ],
   "source": [
    "for (indice, valor) in enumerate(\"hola\"):\n",
    "    print(\"indice:\", indice, \" --> valor:\", valor)"
   ]
  },
  {
   "cell_type": "code",
   "execution_count": 25,
   "id": "ae01ae72-b8e7-4c16-9a0c-3ea31a2b2e20",
   "metadata": {},
   "outputs": [
    {
     "name": "stdout",
     "output_type": "stream",
     "text": [
      "(0, 'h')\n",
      "(1, 'o')\n",
      "(2, 'l')\n",
      "(3, 'a')\n"
     ]
    }
   ],
   "source": [
    "for mis_tuplas in enumerate(\"hola\"):\n",
    "    print(mis_tuplas )\n",
    "    \n",
    "    print(\"indice\", mis_tuplas[], \"--> valor\", mis_tuplas, end= \" \" )\n",
    "    print()\n",
    "    "
   ]
  },
  {
   "cell_type": "code",
   "execution_count": null,
   "id": "469ecf57-6a66-4c28-9ec9-d72bf44b97f9",
   "metadata": {},
   "outputs": [],
   "source": [
    "# ejercicio 3 de bucles\n",
    "\n",
    "suma = 0\n",
    "num = None\n",
    "\n",
    "while num != 0:\n",
    "    num = int(input(\"Introduzca un numero del teclado\"))\n",
    "    \n",
    "    if num > 0:\n",
    "        suma += num\n",
    "        \n",
    "print(\"El sumatorio de todos los enteros positivos fue de\", suma)"
   ]
  },
  {
   "cell_type": "code",
   "execution_count": null,
   "id": "cbb5d5fb-253b-4f64-a8e3-2addccc532fd",
   "metadata": {},
   "outputs": [],
   "source": [
    "# otra forma\n",
    "numeros = []\n",
    "num = None\n",
    "\n",
    "while num != 0:\n",
    "    num = int(input(\"Introduzca un numero del teclado\"))\n",
    "    \n",
    "    if num > 0:\n",
    "        numeros.append(num)\n",
    "        \n",
    "print(\"El sumatorio de todos los enteros positivos fue de\", sum(numeros))\n",
    "print(\"Los numeros fueron\", numeros)"
   ]
  },
  {
   "cell_type": "code",
   "execution_count": null,
   "id": "94648f30-15d2-4a92-bd48-ee4b69c92518",
   "metadata": {},
   "outputs": [],
   "source": [
    "# otra forma más sencilla sin None\n",
    "total = 0\n",
    "lista_numeros = []\n",
    "\n",
    "leido = int(input(\"introduce un número: \"))\n",
    "while leido != 0:\n",
    "    lista_numeros.append(leido)\n",
    "    if leido >0:\n",
    "        total = total + leido\n",
    "    leido = int(input(\"introduce un número: \"))\n",
    "    \n",
    "    "
   ]
  },
  {
   "cell_type": "code",
   "execution_count": 35,
   "id": "ab80529a-31f4-43d3-88a5-354b391a521d",
   "metadata": {},
   "outputs": [
    {
     "name": "stdin",
     "output_type": "stream",
     "text": [
      "introduce un número:  5\n",
      "introduce un número:  -2\n",
      "introduce un número:  1\n",
      "introduce un número:  0\n"
     ]
    },
    {
     "name": "stdout",
     "output_type": "stream",
     "text": [
      "total es 6\n",
      "lista [5, -2, 1]\n"
     ]
    }
   ],
   "source": [
    "total = 0\n",
    "lista_numeros = []\n",
    "\n",
    "while (True):\n",
    "    leido = int(input(\"introduce un número: \"))\n",
    "    if leido == 0:\n",
    "        break\n",
    "    lista_numeros.append(leido)\n",
    "    if leido > 0:\n",
    "        total += leido\n",
    "print(\"total es\", total)\n",
    "print(\"lista\", lista_numeros)\n",
    "        "
   ]
  },
  {
   "cell_type": "code",
   "execution_count": null,
   "id": "0dcdf9f6-33fb-45a1-8f76-d065b9a76dfe",
   "metadata": {},
   "outputs": [],
   "source": [
    "gato = True\n",
    "\n",
    "if gato == True:\n",
    "    print(\"tienes un gato\")\n",
    "    \n",
    "leido = str(input())"
   ]
  }
 ],
 "metadata": {
  "kernelspec": {
   "display_name": "Python 3 (ipykernel)",
   "language": "python",
   "name": "python3"
  },
  "language_info": {
   "codemirror_mode": {
    "name": "ipython",
    "version": 3
   },
   "file_extension": ".py",
   "mimetype": "text/x-python",
   "name": "python",
   "nbconvert_exporter": "python",
   "pygments_lexer": "ipython3",
   "version": "3.10.9"
  }
 },
 "nbformat": 4,
 "nbformat_minor": 5
}
