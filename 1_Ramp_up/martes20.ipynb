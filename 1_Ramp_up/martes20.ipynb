{
 "cells": [
  {
   "cell_type": "code",
   "execution_count": 4,
   "id": "2ebc3baa-6d32-4a00-9c69-858452d3b56a",
   "metadata": {},
   "outputs": [
    {
     "data": {
      "text/plain": [
       "[5]"
      ]
     },
     "execution_count": 4,
     "metadata": {},
     "output_type": "execute_result"
    }
   ],
   "source": [
    "mi_tupla = (5,)\n",
    "mi_lista = [1,2,3]\n",
    "otra_tupla = tuple(mi_lista)\n",
    "nueva_lista = list(mi_tupla)\n",
    "nueva_lista"
   ]
  },
  {
   "cell_type": "code",
   "execution_count": 18,
   "id": "3557b6f5-3b78-45d1-b691-e49f06494939",
   "metadata": {},
   "outputs": [
    {
     "name": "stdout",
     "output_type": "stream",
     "text": [
      "procesando, y es de tamano grande\n",
      "Hola, Alberto la ventana es de madera\n",
      "procesando, y es de tamano grande\n",
      "Hola, Alejandro la ventana es de madera\n",
      "cristal de ventana1 True\n",
      "lista precios de ventana1 [123]\n"
     ]
    }
   ],
   "source": [
    "class Ventana:\n",
    "    \"\"\"\n",
    "    esta clase es una Ventana\n",
    "    \"\"\"\n",
    "    \n",
    "    cristal = True\n",
    "    cortinas = True\n",
    "    transparentes = True\n",
    "    lista_precios = []\n",
    "    \n",
    "    def __init__(self, material, tamano, lista_tiendas = [], longitud = 5):\n",
    "        self.material = material\n",
    "        self.tamano = tamano\n",
    "        self.lista_tiendas = lista_tiendas\n",
    "        self.longitud = longitud\n",
    "        \n",
    "    def dime_material(self):\n",
    "        return self.material\n",
    "    \n",
    "    def mensaje_info(self, nombre):\n",
    "        print(\"procesando, y es de tamano\", self.tamano )\n",
    "        return \"Hola, \" + nombre + \" la ventana es de \" + self.material\n",
    "    \n",
    "    def mensaje_a_varios_clientes(self, lista_clientes):\n",
    "        for cliente in lista_clientes:\n",
    "            print(self.mensaje_info(cliente))\n",
    "        \n",
    "    \n",
    "ventana1 = Ventana(\"madera\", \"grande\")\n",
    "de_que_es = ventana1.dime_material()\n",
    "ventana1.mensaje_a_varios_clientes([\"Alberto\", \"Alejandro\"])\n",
    "\n",
    "ventana2 = Ventana(\"plástico\", \"pequeña\")\n",
    "ventana2.lista_precios.append(123)\n",
    "ventana2.cristal = False\n",
    "\n",
    "print(\"cristal de ventana1\", ventana1.cristal)\n",
    "print(\"lista precios de ventana1\", ventana1.lista_precios)\n",
    "\n",
    "ventana1.transparente = False\n",
    "    "
   ]
  },
  {
   "cell_type": "code",
   "execution_count": 11,
   "id": "113517a7-cf1e-488a-842d-e3a7f4f3d3b3",
   "metadata": {},
   "outputs": [
    {
     "name": "stdout",
     "output_type": "stream",
     "text": [
      "clave nombre valor Alberto\n",
      "clave profesor valor True\n"
     ]
    },
    {
     "data": {
      "text/plain": [
       "['nombre', 'profesor']"
      ]
     },
     "execution_count": 11,
     "metadata": {},
     "output_type": "execute_result"
    }
   ],
   "source": [
    "diccionario = {\"nombre\": \"Alberto\", \"profesor\": True}\n",
    "for clave in diccionario:\n",
    "    print(\"clave\", clave, \"valor\", diccionario[clave])\n",
    "list(diccionario)"
   ]
  },
  {
   "cell_type": "code",
   "execution_count": 19,
   "id": "d09b2803-7e9d-4604-9d32-03f322a9e538",
   "metadata": {},
   "outputs": [
    {
     "data": {
      "text/plain": [
       "{'material': 'madera',\n",
       " 'tamano': 'grande',\n",
       " 'lista_tiendas': [],\n",
       " 'longitud': 5,\n",
       " 'transparente': False}"
      ]
     },
     "execution_count": 19,
     "metadata": {},
     "output_type": "execute_result"
    }
   ],
   "source": [
    "ventana1.__dict__"
   ]
  },
  {
   "cell_type": "code",
   "execution_count": 20,
   "id": "c3e1ae43-f6bf-432a-90df-c2d05c072674",
   "metadata": {},
   "outputs": [
    {
     "data": {
      "text/plain": [
       "mappingproxy({'__module__': '__main__',\n",
       "              '__doc__': '\\n    esta clase es una Ventana\\n    ',\n",
       "              'cristal': True,\n",
       "              'cortinas': True,\n",
       "              'transparentes': True,\n",
       "              'lista_precios': [123],\n",
       "              '__init__': <function __main__.Ventana.__init__(self, material, tamano, lista_tiendas=[], longitud=5)>,\n",
       "              'dime_material': <function __main__.Ventana.dime_material(self)>,\n",
       "              'mensaje_info': <function __main__.Ventana.mensaje_info(self, nombre)>,\n",
       "              'mensaje_a_varios_clientes': <function __main__.Ventana.mensaje_a_varios_clientes(self, lista_clientes)>,\n",
       "              '__dict__': <attribute '__dict__' of 'Ventana' objects>,\n",
       "              '__weakref__': <attribute '__weakref__' of 'Ventana' objects>})"
      ]
     },
     "execution_count": 20,
     "metadata": {},
     "output_type": "execute_result"
    }
   ],
   "source": [
    "Ventana.__dict__"
   ]
  }
 ],
 "metadata": {
  "kernelspec": {
   "display_name": "Python 3 (ipykernel)",
   "language": "python",
   "name": "python3"
  },
  "language_info": {
   "codemirror_mode": {
    "name": "ipython",
    "version": 3
   },
   "file_extension": ".py",
   "mimetype": "text/x-python",
   "name": "python",
   "nbconvert_exporter": "python",
   "pygments_lexer": "ipython3",
   "version": "3.10.9"
  }
 },
 "nbformat": 4,
 "nbformat_minor": 5
}
