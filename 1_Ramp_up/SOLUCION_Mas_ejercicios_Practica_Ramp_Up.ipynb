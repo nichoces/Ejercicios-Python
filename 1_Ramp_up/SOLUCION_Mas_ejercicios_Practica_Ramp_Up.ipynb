{
 "cells": [
  {
   "cell_type": "markdown",
   "metadata": {},
   "source": [
    "# Entrega Ramp Up\n"
   ]
  },
  {
   "cell_type": "markdown",
   "metadata": {},
   "source": [
    "## Ejercicio 1\n",
    "#### Crear un programa que calcule el promedio de una serie de números.\n",
    "\n",
    "El programa pedirá al usuario que introduzca numeros. En primer lugar le pedirá que indique cuantos números se quieren introducir, y enseñará un prompt para introducirlos (usando el método input), y calculará el promedio.\n"
   ]
  },
  {
   "cell_type": "code",
   "execution_count": null,
   "metadata": {},
   "outputs": [],
   "source": [
    "n = int(input(\"How many numbers do you have? \"))\n",
    "\n",
    "total = 0.0\n",
    "for i in range(n):\n",
    "    x = float(input(\"Enter a number >> \"))\n",
    "    total = total + x\n",
    "\n",
    "print(\"\\nThe average of the numbers is\", total / n)"
   ]
  },
  {
   "cell_type": "markdown",
   "metadata": {},
   "source": [
    "## Ejercicio 2\n",
    "\n",
    "\n",
    "#### Escribe un programa en Python para convertir una lista de caracteres en un string.\n",
    "\n",
    "Lista de ejemplo : ['a','b','c','d']\n",
    "\n",
    "Salida esperada : abcd\n"
   ]
  },
  {
   "cell_type": "code",
   "execution_count": null,
   "metadata": {},
   "outputs": [],
   "source": [
    "# tu codigo aqui\n",
    "\n",
    "s = ['a', 'b', 'c', 'd']\n",
    "str1 = ''.join(s)\n",
    "print(str1)"
   ]
  },
  {
   "cell_type": "markdown",
   "metadata": {},
   "source": [
    "## Ejercicio 3\n",
    "\n",
    "#### Primeros y últimos 5 elementos\n",
    "Escribe un programa en Python que genere e imprima una lista que contenga los primeros y últimos 5 valores de los cuadrados de todos los números entre 1 y 30 (ambos inclusive). \n"
   ]
  },
  {
   "cell_type": "code",
   "execution_count": null,
   "metadata": {},
   "outputs": [],
   "source": [
    "# tu codigo aqui\n",
    "\n",
    "l = list()\n",
    "for i in range(1,31):\n",
    "    l.append(i**2)\n",
    "print(l[:5])\n",
    "print(l[-5:])"
   ]
  },
  {
   "cell_type": "markdown",
   "metadata": {},
   "source": [
    "## Ejercicio 4\n",
    "#### Interactuando con listas\n",
    "\n",
    "\n",
    "Respecto de la lista de gadgets [\"Móvil\", \"Portátil\", 100, \"Cámara\", 310,28, \"Altavoces\", 27,00,\n",
    "\"Televisión\", 1000, \"Maletín para portátil\", \"Lente de cámara\"], completa las siguientes acciones:\n",
    "\n",
    "a)Crea listas separadas de string y números.  \n",
    "\n",
    "b)Ordena la lista de strings en orden ascendente  \n",
    "\n",
    "c)Ordena la lista de strings en orden descendente  \n",
    "\n",
    "d)Ordena la lista de números de menor a mayor  \n",
    "\n",
    "e)Ordena la lista de números de mayor a menor\n",
    "\n"
   ]
  },
  {
   "cell_type": "code",
   "execution_count": null,
   "metadata": {},
   "outputs": [],
   "source": [
    "gadgets = [\"Mobile\", \"Laptop\", 100, \"Camera\", 310.28, \"Speakers\", 27.00, \n",
    "           \"Television\", 1000, \"Laptop Case\", \"Camera Lens\"]\n",
    " \n",
    "str_items = []\n",
    " \n",
    "num_items = []\n",
    " \n",
    "#a)creating separate lists\n",
    "\n",
    "for item in gadgets: \n",
    "     \n",
    "    if type(item) is str:\n",
    "    #if type(item) == str:\n",
    "         \n",
    "        str_items.append(item)\n",
    "         \n",
    "    elif type(item) is int or type(item) is float:\n",
    "         \n",
    "        num_items.append(item)\n",
    " \n",
    "  \n",
    "print(str_items)\n",
    " \n",
    "print(num_items)\n",
    " \n",
    "print ('b)sorting strings list in ascending order, a-z')\n",
    " \n",
    "str_items.sort()\n",
    " \n",
    "print(str_items)\n",
    " \n",
    "print('sorting strings list in descending order z-a')\n",
    " \n",
    "# str_items.sort(key=str.lower, reverse=True)\n",
    "\n",
    "str_items.sort(reverse=True)\n",
    "\n",
    "print(str_items)\n",
    " \n",
    "#d)sorting number list from lowest to highest\n",
    " \n",
    "num_items.sort()\n",
    " \n",
    "print(num_items)\n",
    " \n",
    "#e)sorting number list from highest to lowest\n",
    " \n",
    "num_items.sort(reverse=True)\n",
    " \n",
    "print(num_items)"
   ]
  },
  {
   "cell_type": "markdown",
   "metadata": {},
   "source": [
    "## Ejercicio 5\n",
    "#### Trabajando con listas anidadas\n",
    "\n",
    "Disponemos de una lista con información sobre varios empleados:\n",
    "\n",
    "    empleados = [[\"Juan Rodríguez\", 53, [\"Director financiero\"]],[\"Laura Pérez\", 41, [\"CEO\", \"Director\", \"Gerente\"]],[\"Pedro Álvarez\", 26, [\"Asistente\",\"Gestor comercial\"]]]\n",
    "\n",
    "Respecto de cada empleado, la lista contiene tres elementos: en el primero almacenamos su nombre, en el segundo su edad y en el tercero los puestos que ha desempeñado en la empresa (en forma de lista).\n",
    "\n",
    "1. Siguiendo la misma estructura, incluye un nuevo empleado en la última posición de la lista empleados.\n",
    "\n",
    "2. Mostrar por pantalla, sin uso de funciones (salvo print) ni bucles: \n",
    "\n",
    "    - El nombre y la edad del tercer empleado de la lista empleados.\n",
    "    - Los puestos desempeñados por Laura Pérez, ordenados de atras a adelante (es decir, de gerente a CEO)\n",
    "    - Si el nuevo empleado que has añadido tiene más de 30 años, muestra por pantalla los puestos que el nuevo empleado haya desempeñado en la empresa. En caso contrario, muestra los puestos desempeñados por Laura Pérez y Juan Rodriguez."
   ]
  },
  {
   "cell_type": "code",
   "execution_count": 1,
   "metadata": {},
   "outputs": [
    {
     "name": "stdout",
     "output_type": "stream",
     "text": [
      "[['Juan Rodríguez', 53, ['Director financiero']], ['Laura Pérez', 41, ['CEO', 'Director', 'Gerente']], ['Pedro Álvarez', 26, ['Asistente', 'Gestor comercial']], ['Marina Gómez', 22, ['Asistente']]]\n",
      "El tercer empleado se llama Pedro Álvarez y tiene 26 años\n",
      "['Gerente', 'Director', 'CEO']\n",
      "Puestos desempeñados por Laura Pérez ['Gerente', 'Director', 'CEO']\n",
      "Puestos desempeñados por Juan Rodriguez ['Director financiero']\n"
     ]
    }
   ],
   "source": [
    "empleados = [[\"Juan Rodríguez\", 53, [\"Director financiero\"]],[\"Laura Pérez\", 41, [\"CEO\", \"Director\", \"Gerente\"]],[\"Pedro Álvarez\", 26, [\"Asistente\",\"Gestor comercial\"]]]\n",
    "\n",
    "#1\n",
    "empleados.append([\"Marina Gómez\", 22,[\"Asistente\"]])\n",
    "print(empleados)\n",
    "\n",
    "#2\n",
    "\n",
    "print(\"El tercer empleado se llama\",empleados[2][0],\"y tiene\",empleados[2][1],\"años\")\n",
    "\n",
    "\n",
    "empleados[1][2].reverse()\n",
    "empleados[1][2][::-1]\n",
    "print(empleados[1][2])\n",
    "\n",
    "\n",
    "if empleados[3][1] > 30:\n",
    "    print(empleados[3][2])\n",
    "\n",
    "else:\n",
    "    print(f\"Puestos desempeñados por Laura Pérez {empleados[1][2]}\")\n",
    "    print(f\"Puestos desempeñados por Juan Rodriguez {empleados[0][2]}\")\n"
   ]
  },
  {
   "cell_type": "markdown",
   "metadata": {},
   "source": [
    "## Ejercicio 6\n",
    "\n",
    "#### Obtenga la primera y la segunda mejor puntuación de la lista.\n",
    "\n",
    "La lista puede contener duplicados.\n",
    "\n",
    "Ej: [86,86,85,85,85,83,23,45,84,1,2,0] => debería obtener, por este orden: 86, 85"
   ]
  },
  {
   "cell_type": "code",
   "execution_count": null,
   "metadata": {},
   "outputs": [],
   "source": [
    "#sort the list and get the elements\n",
    " \n",
    "a_list = [84,84,86,86,85,85,85,83,23,45,84,1,2,0]\n",
    "\n",
    "a_list.sort(reverse=True) \n",
    "print(a_list)\n",
    " \n",
    "first = a_list[0]\n",
    " \n",
    "second = None\n",
    "\n",
    "# comprobación para ver si el primero está duplicado. iteramos en la list hasta que encontramos un valor diferente y salimos del bucle\n",
    "\n",
    "for element in a_list:\n",
    "    if element != first:\n",
    "        second = element\n",
    "        break;\n",
    "\n",
    "print(first,second)"
   ]
  },
  {
   "cell_type": "markdown",
   "metadata": {},
   "source": [
    "## Ejercicio 7\n",
    "\n",
    "#### Escriba un programa que detecte si una string es un palíndromo\n",
    "\n",
    "Pedir al usuario una string e imprimir si esta string es un palíndromo o no. (Un palíndromo es un string que se lee igual hacia adelante y hacia atrás)."
   ]
  },
  {
   "cell_type": "code",
   "execution_count": 12,
   "metadata": {},
   "outputs": [
    {
     "data": {
      "text/plain": [
       "False"
      ]
     },
     "execution_count": 12,
     "metadata": {},
     "output_type": "execute_result"
    }
   ],
   "source": [
    "res = \"\"\n",
    "palabra = \"casa\"\n",
    "\n",
    "for indice in range(len(palabra)):\n",
    "    res = res + palabra[len(palabra) - indice -1]\n",
    "res == palabra\n",
    "\n",
    "# \"Ana\".lower() == "
   ]
  },
  {
   "cell_type": "code",
   "execution_count": null,
   "metadata": {},
   "outputs": [],
   "source": [
    "# Program to check if a string is palindrome or not\n",
    "\n",
    "my_str = input(\"introduce una palabra para ver si es un palíndromo: \")\n",
    "\n",
    "my_str = my_str.lower()\n",
    "\n",
    "# reverse the string\n",
    "rev_str = reversed(my_str)\n",
    "\n",
    "# check if the string is equal to its reverse\n",
    "if list(my_str) == list(rev_str):\n",
    "   print(\"The string is a palindrome.\")\n",
    "else:\n",
    "   print(\"The string is not a palindrome.\")"
   ]
  },
  {
   "cell_type": "markdown",
   "metadata": {},
   "source": [
    "## Ejercicio 8\n",
    "#### Crear un programa que calcule la cuota de una hipoteca\n",
    "\n",
    "Las cuotas hipotecarias se calculan utilizando la fórmula del interés frances. El objetivo del ejercicio es crear un programa que solicite al usuario los datos de su hipoteca (cantidad, intereses, y plazo en años) y le devuelva la cuota mensual a pagar\n",
    "\n",
    "La formula del interés frances es la siguiente:\n",
    "\\begin{align*}\n",
    "C=V \\frac{(1+i)^n i}{(1+i)^n -1}\n",
    "\\end{align*}\n",
    "\n",
    "\n",
    "    C = Cuota a pagar\n",
    "    V = Cantidad del préstamo hipotecario\n",
    "    i = tipo de interés del período (tipo de interes de la hipoteca por mes)\n",
    "    n = número de cuotas (en meses)\n",
    "\n",
    "V = 300.000\n",
    "\n",
    "i = 2 %\n",
    "\n",
    "n = 20*12\n",
    "\n",
    "output: 1517"
   ]
  },
  {
   "cell_type": "code",
   "execution_count": null,
   "metadata": {},
   "outputs": [],
   "source": [
    "# Declares and asks for user to input loan amount. Then converts to float\n",
    "\n",
    "total_hipoteca = input (\"introduce el total de la hipoteca \\n\")\n",
    "print(type(total_hipoteca))\n",
    "total_hipoteca = float (total_hipoteca)\n",
    "\n",
    "# Declares and asks user to input number of payments in years. Then converts to float. Years * 12 to get\n",
    "#  total number of months\n",
    "meses = float(input('How many years will you have the loan? \\n')) *12\n",
    "\n",
    "# Declares and asks user to input interest rate. Then converts to float and input interest rate is /100/12\n",
    "interestRate = input('Enter Interest Rate \\n')\n",
    "interestRate = float(interestRate) / 100 / 12\n",
    "\n",
    "# Formula to calculate monthly payments\n",
    "cuota = total_hipoteca* (interestRate * (1 + interestRate) ** meses) / ((1 + interestRate) ** meses - 1)\n",
    "\n",
    "\n",
    "# Prints monthly payment on next line and reformat the string to a float using 2 decimal places\n",
    "\n",
    "print(\"The monthly mortgage payment is\\n (%.2f) \" % cuota)"
   ]
  },
  {
   "cell_type": "markdown",
   "metadata": {},
   "source": [
    "## Ejercicio 9\n",
    "#### Crear un programa que calcule el plan de amortización\n",
    "\n",
    "El objetivo del ejercicio es crear un programa que solicite al usuario los datos de su hipoteca (cantidad, intereses, y plazo en años) y le devuelva el plan de amortización.\n",
    "\n",
    "En cada cuota se pagan intereses por el capital restante, y se devuelve capital hasta la cuota mensual. El capital restante ha de ser actualizado restandole el capital devuelto.\n",
    "\n",
    "Salida ejemplo:\n",
    "\n",
    "mes  cuota  intereses  principal  pendiente   \n",
    "\n",
    "0  758.89   450.00   308.89   179691.11 \n",
    "\n",
    "**NOTA**: Tienes que partir de tipo de interes por periodo calculado en el apartado anterior, y del total de la hipoteca. Para cada mes calcular:\n",
    "\n",
    "1. cuota (apartado anterior)\n",
    "2. intereses a pagar del mes (lo que quede por pagar * interes por periodo del apartado anterior)\n",
    "3. principal (cuota - interes)\n",
    "4. pendiente (lo que quede por pagar - principal)"
   ]
  },
  {
   "cell_type": "code",
   "execution_count": null,
   "metadata": {},
   "outputs": [],
   "source": [
    "# por ejemplo con 50000 de hipoteca\n",
    "'''\n",
    "mes  cuota  intereses  principal  pendiente\n",
    "0  990.06   291.67   698.39   49301.61 \n",
    "1  990.06   287.59   702.47   48599.14 \n",
    "2  990.06   283.49   706.56   47892.57 \n",
    "3  990.06   279.37   710.69   47181.89 \n",
    "4  990.06   275.23   714.83   46467.06 \n",
    "5  990.06   271.06   719.00   45748.05 \n",
    "6  990.06   266.86   723.20   45024.86 \n",
    "7  990.06   262.65   727.41   44297.44 \n",
    "8  990.06   258.40   731.66   43565.78 \n",
    "9  990.06   254.13   735.93   42829.86 \n",
    "10  990.06   249.84   740.22   42089.64\n",
    "'''\n",
    "\n",
    "\n",
    "# tu codigo va aquí\n",
    "\n",
    "balance = total_hipoteca\n",
    "\n",
    "print (\"mes  cuota  intereses  principal  pendiente\")\n",
    "\n",
    "\n",
    "for i in range(int(meses)):\n",
    "    interest = balance * interestRate\n",
    "    principal = cuota - interest\n",
    "    balance = balance - principal \n",
    "    print (i,\" %.2f \"  % cuota, \" %.2f \"  %  interest, \" %.2f \"  % principal, \" %.2f \"  % balance)"
   ]
  },
  {
   "cell_type": "markdown",
   "metadata": {},
   "source": [
    "## Ejercicio 10\n",
    "#### Crear un programa que resuelva una ecuación de segundo grado \n",
    "\n",
    "El objetivo del programa es resolver la ecuación de segundo grado \n",
    "\n",
    "\\begin{align*}\n",
    "ax^2+bx+c = 0\n",
    "\\end{align*}\n",
    "\n",
    "Pasando como parámetros los coeficientes de la ecuación. La resolución de la ecuación es la siguiente:\n",
    "\n",
    "\\begin{align*}\n",
    "x=\\frac{-b \\pm \\sqrt{b^2-4ac}}{2a}\n",
    "\\end{align*}\n",
    "\n",
    "Para realizar este programa tienes que utilizar el metodo sqrt() para calcular la raiz cuadrada. Para ello tienes que importar el módulo math. Así que tu programa debería empezar con ```ìmport math```\n"
   ]
  },
  {
   "cell_type": "code",
   "execution_count": null,
   "metadata": {},
   "outputs": [],
   "source": [
    "import math  # Makes the math library available.\n",
    "\n",
    "print(\"This program finds the real solutions to a quadratic\")\n",
    "print()\n",
    "\n",
    "a = float(input(\"Enter coefficient a: \"))\n",
    "b = float(input(\"Enter coefficient b: \"))\n",
    "c = float(input(\"Enter coefficient c: \"))\n",
    "try:\n",
    "    discRoot = math.sqrt(b * b - 4 * a * c)\n",
    "    root1 = (-b + discRoot) / (2 * a)\n",
    "    root2 = (-b - discRoot) / (2 * a)\n",
    "except:\n",
    "    print(\"Raiz negativa\")\n",
    "\n",
    "print()\n",
    "print(\"The solutions are:\", root1, root2 )"
   ]
  },
  {
   "cell_type": "markdown",
   "metadata": {},
   "source": [
    "## (Bonus) Ejercicio 11\n",
    "#### Desarrolla el juego del ahorcado\n",
    "El juego del ahorcado consiste en adivinar una palabra, probando letra a letra. El jugador tiene permitidos 6 fallos, al 7mo fallo pierde. \n",
    "\n",
    "* Habrá que imprimir por pantalla una cantidad de guiones igual al numero de letras e ir sustituyéndolos con los aciertos.\n",
    "* Necesitarás usar un bucle while con un input para modelar las jugadas del ahoracado. En cada ejecución del while comprueba las vidas del jugador, y los aciertos."
   ]
  },
  {
   "cell_type": "code",
   "execution_count": 13,
   "metadata": {},
   "outputs": [
    {
     "name": "stdout",
     "output_type": "stream",
     "text": [
      "_ _ _ _ _ _ _ _ _ _ \n",
      "Letra insertada: j\n",
      "Llevas: 1\n",
      "Letra no está en la palabra\n",
      "_ _ _ _ _ _ _ _ _ _ \n",
      "Letra insertada: u\n",
      "_ U _ _ _ _ _ _ _ _ \n",
      "Letra insertada: STOP\n"
     ]
    }
   ],
   "source": [
    "def tablero_a_mostrar(tablero):\n",
    "    tablero_show = \"\"\n",
    "    for l in tablero:\n",
    "        tablero_show += l + \" \"\n",
    "    return tablero_show\n",
    "\n",
    "\n",
    "lista_aciertos = []\n",
    "\n",
    "palabra_a_adivinar = \"murcielago\".upper()\n",
    "tamano_palabra = len(palabra_a_adivinar)\n",
    "num_errores = 0\n",
    "\n",
    "tablero = list(\"_\" * tamano_palabra)\n",
    "\n",
    "print(tablero_a_mostrar(tablero=tablero))\n",
    "\n",
    "while \"_\" in tablero:\n",
    "    letra_insertada = input(\"Letra insertada:\").upper()\n",
    "    if letra_insertada == \"STOP\":\n",
    "        break\n",
    "    if letra_insertada in palabra_a_adivinar:  # La letra está dentro de la palabra\n",
    "        if letra_insertada in lista_aciertos:  # Ha insertado una letra previamente acertada\n",
    "            print(\"Ya habías acertado esta letra\")\n",
    "        else:  # Acertada pero no previamente\n",
    "            lista_aciertos.append(letra_insertada)\n",
    "            # Sustituir en el tablero\n",
    "            for pos, letra in enumerate(palabra_a_adivinar):\n",
    "                if letra == letra_insertada:\n",
    "                    tablero[pos] = letra_insertada\n",
    "    else:  # La letra no está dentro de la palabra\n",
    "        num_errores += 1\n",
    "        print(\"Llevas:\", num_errores)\n",
    "        print(\"Letra no está en la palabra\") \n",
    "        if num_errores > 6:\n",
    "            print(\"Lo siento, has perdido\")\n",
    "            break\n",
    "    \n",
    "    print(tablero_a_mostrar(tablero=tablero))\n",
    "\n",
    "    if \"_\" not in tablero:  # Que ya se han acertado todas\n",
    "        print(\"Has ganado!\")"
   ]
  }
 ],
 "metadata": {
  "kernelspec": {
   "display_name": "Python 3 (ipykernel)",
   "language": "python",
   "name": "python3"
  },
  "language_info": {
   "codemirror_mode": {
    "name": "ipython",
    "version": 3
   },
   "file_extension": ".py",
   "mimetype": "text/x-python",
   "name": "python",
   "nbconvert_exporter": "python",
   "pygments_lexer": "ipython3",
   "version": "3.10.9"
  },
  "vscode": {
   "interpreter": {
    "hash": "252189e587d1e2aeba4a06e91fa71896c7a7f6e22e918b9407c7cde4ef2d5985"
   }
  }
 },
 "nbformat": 4,
 "nbformat_minor": 4
}
